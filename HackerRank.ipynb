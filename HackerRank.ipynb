{
 "cells": [
  {
   "cell_type": "code",
   "execution_count": 16,
   "id": "dfa6434c",
   "metadata": {},
   "outputs": [],
   "source": [
    "#Find Oddnumber"
   ]
  },
  {
   "cell_type": "code",
   "execution_count": 17,
   "id": "35c9f838",
   "metadata": {},
   "outputs": [],
   "source": [
    "def oddNumbers(l, r):\n",
    "    b=[k for k in range (l,r+1) if k%2==1]\n",
    "    return b"
   ]
  },
  {
   "cell_type": "code",
   "execution_count": 18,
   "id": "3fa48f5c",
   "metadata": {},
   "outputs": [
    {
     "data": {
      "text/plain": [
       "[3, 5, 7]"
      ]
     },
     "execution_count": 18,
     "metadata": {},
     "output_type": "execute_result"
    }
   ],
   "source": [
    "l=2\n",
    "r=7\n",
    "oddNumbers(l,r)"
   ]
  },
  {
   "cell_type": "code",
   "execution_count": 21,
   "id": "1bd879e4",
   "metadata": {},
   "outputs": [
    {
     "name": "stdout",
     "output_type": "stream",
     "text": [
      "2\n",
      "3\n",
      "4\n",
      "5\n",
      "6\n",
      "7\n"
     ]
    }
   ],
   "source": [
    "for k in range (l,r+1):\n",
    "    print (k)"
   ]
  },
  {
   "cell_type": "code",
   "execution_count": 37,
   "id": "5dbd0da7",
   "metadata": {},
   "outputs": [
    {
     "name": "stdout",
     "output_type": "stream",
     "text": [
      "6\n"
     ]
    }
   ],
   "source": [
    "pos=0\n",
    "for k in range (l,r+1):\n",
    "    if k >0:\n",
    "        pos=pos+1\n",
    "print (pos)"
   ]
  },
  {
   "cell_type": "code",
   "execution_count": 33,
   "id": "9a3a62a8",
   "metadata": {},
   "outputs": [],
   "source": [
    "#Find k in an array"
   ]
  },
  {
   "cell_type": "code",
   "execution_count": null,
   "id": "71a56537",
   "metadata": {},
   "outputs": [],
   "source": [
    "def findNumber(arr, k):\n",
    "    if k in arr:\n",
    "        return ('YES')\n",
    "    else:\n",
    "        return ('NO')\n",
    "            # Write your code here"
   ]
  },
  {
   "cell_type": "code",
   "execution_count": null,
   "id": "f1fb8d9b",
   "metadata": {},
   "outputs": [],
   "source": [
    "#count num in arr"
   ]
  },
  {
   "cell_type": "code",
   "execution_count": 1,
   "id": "5502a7c0",
   "metadata": {},
   "outputs": [],
   "source": [
    "def plusMinus(arr):\n",
    "    pos=0\n",
    "    zer=0\n",
    "    neg=0\n",
    "    size=len(arr)\n",
    "    for k in arr:\n",
    "        if k >0:\n",
    "            pos=pos+1\n",
    "    a=pos/size\n",
    "    print(a)\n",
    "            \n",
    "    for k in arr:\n",
    "        if k <0:\n",
    "            neg=neg+1\n",
    "    b=neg/size\n",
    "    print(b)        \n",
    "     \n",
    "    for k in arr:\n",
    "        if k==0:\n",
    "            zer=zer+1\n",
    "    c=zer/size\n",
    "    print(c)\n",
    "    "
   ]
  },
  {
   "cell_type": "code",
   "execution_count": null,
   "id": "52eb7c86",
   "metadata": {},
   "outputs": [],
   "source": [
    "#arr=[1,3,5,7,9] minumsum=1+3+5+7, maxmum=3+5+7+9 排序 arr.sort()"
   ]
  },
  {
   "cell_type": "code",
   "execution_count": null,
   "id": "ffbb77bb",
   "metadata": {},
   "outputs": [],
   "source": [
    "def miniMaxSum(arr):\n",
    "    m=0\n",
    "    t=0\n",
    "    arr.sort()\n",
    "    for k in range(0,4):\n",
    "        m=m+arr[k]\n",
    "    for p in range(1,5):\n",
    "        t=t+arr[p]\n",
    "    print (m,t)"
   ]
  },
  {
   "cell_type": "code",
   "execution_count": 2,
   "id": "89557c40",
   "metadata": {},
   "outputs": [],
   "source": [
    "#12时格式转化为24时格式，int（）把float 转化成int, 访问一个字符串前两位[:2]"
   ]
  },
  {
   "cell_type": "code",
   "execution_count": 3,
   "id": "d65ce4fc",
   "metadata": {},
   "outputs": [],
   "source": [
    "def timeConversion(s):\n",
    "    h = int(s[:2])\n",
    "    new = s[2:8]\n",
    "    h = h % 12 if s[-2:] == 'AM' else h % 12 + 12\n",
    "    return f\"{h:02}{new}\""
   ]
  },
  {
   "cell_type": "code",
   "execution_count": 5,
   "id": "946ce770",
   "metadata": {},
   "outputs": [],
   "source": [
    "arry=[[1,2],[2,3]]"
   ]
  },
  {
   "cell_type": "code",
   "execution_count": null,
   "id": "69249167",
   "metadata": {},
   "outputs": [],
   "source": [
    "q = int(input())\n",
    "for _ in range(q):\n",
    "    n = int(input())\n",
    "    a = []\n",
    "    for y in range(2*n):\n",
    "        a.append([int(x) for x in input().split()])\n",
    "    suma = 0\n",
    "    for i in range(n):\n",
    "        for j in range(n):\n",
    "            suma += max(max(a[i][j],a[2*n-i-1][j]),max(a[i][2*n-j-1],a[2*n-i-1][2*n-j-1]))\n",
    "    print(suma)\n",
    "                "
   ]
  },
  {
   "cell_type": "code",
   "execution_count": 12,
   "id": "e99bea40",
   "metadata": {},
   "outputs": [],
   "source": [
    "for i in range(1,10):\n",
    "    if i%3==0 and i%5==0:\n",
    "        print ('FizzBuzz')"
   ]
  },
  {
   "cell_type": "code",
   "execution_count": null,
   "id": "8c1be06d",
   "metadata": {},
   "outputs": [],
   "source": []
  }
 ],
 "metadata": {
  "kernelspec": {
   "display_name": "Python 3 (ipykernel)",
   "language": "python",
   "name": "python3"
  },
  "language_info": {
   "codemirror_mode": {
    "name": "ipython",
    "version": 3
   },
   "file_extension": ".py",
   "mimetype": "text/x-python",
   "name": "python",
   "nbconvert_exporter": "python",
   "pygments_lexer": "ipython3",
   "version": "3.7.11"
  }
 },
 "nbformat": 4,
 "nbformat_minor": 5
}
